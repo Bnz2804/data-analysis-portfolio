{
  "nbformat": 4,
  "nbformat_minor": 0,
  "metadata": {
    "colab": {
      "provenance": [],
      "mount_file_id": "1UHNkBluZ2p0CJfNOfmqzSBeyKcBuvItG",
      "authorship_tag": "ABX9TyOHqCw+PKm2kqhk/aPm75MT",
      "include_colab_link": true
    },
    "kernelspec": {
      "name": "python3",
      "display_name": "Python 3"
    },
    "language_info": {
      "name": "python"
    }
  },
  "cells": [
    {
      "cell_type": "markdown",
      "metadata": {
        "id": "view-in-github",
        "colab_type": "text"
      },
      "source": [
        "<a href=\"https://colab.research.google.com/github/Bnz2804/data-analysis-portfolio/blob/main/Exercise_26.ipynb\" target=\"_parent\"><img src=\"https://colab.research.google.com/assets/colab-badge.svg\" alt=\"Open In Colab\"/></a>"
      ]
    },
    {
      "cell_type": "code",
      "execution_count": null,
      "metadata": {
        "id": "1qARaWw60cvR",
        "colab": {
          "base_uri": "https://localhost:8080/"
        },
        "outputId": "1c34aa95-d129-4c43-845f-b5cd6b4d449c"
      },
      "outputs": [
        {
          "output_type": "execute_result",
          "data": {
            "text/plain": [
              "77.0"
            ]
          },
          "metadata": {},
          "execution_count": 19
        }
      ],
      "source": [
        "import pandas as pd\n",
        "import numpy as np\n",
        "from pandas import DataFrame, Series\n",
        "\n",
        "df=pd.read_csv('/content/drive/MyDrive/Irwin data analysis portfolio/data/data/celebrity_deaths_2016.csv',\n",
        "                usecols=['dateofdeath','age'])\n",
        "\n",
        "df['month']=df['dateofdeath'].str.slice(5,7)\n",
        "df['date']=df['dateofdeath'].str.slice(8,10)\n",
        "\n",
        "df=df.set_index(['month','date']).sort_index()\n",
        "\n",
        "df=df.dropna(subset=['age'])\n",
        "\n",
        "#df=df[df['age'].str.isdigit()]# one way of doing it by selecting and removing rows within the age column with non numerical values\n",
        "\n",
        "df['age']=pd.to_numeric(df['age'], errors='coerce')# another way of doing it by creating a new age column turning the values into integer or float and  precise to ignore any errors\n",
        "\n",
        "df=df.loc[df['age']<120]\n",
        "\n",
        "df.loc['02':'07', 'age'].mean().round()#Find the average age of celebrities who died from February to July 2016\n",
        "\n",
        "df.loc[pd.IndexSlice[('02','07'),('15','15')],'age'].mean().round()# find the average age of celebrities who ded from february 15 to july 15\n"
      ]
    },
    {
      "cell_type": "code",
      "source": [
        "import pandas as pd\n",
        "import numpy as np\n",
        "from pandas import DataFrame, Series\n",
        "\n",
        "df=pd.read_csv('/content/drive/MyDrive/Irwin data analysis portfolio/data/data/celebrity_deaths_2016.csv',\n",
        "                usecols=['causeofdeath'])\n",
        "\n",
        "causes=df.value_counts().head(5)\n",
        "\n",
        "print('The five most popular causes of death are \\n'+ str(causes))"
      ],
      "metadata": {
        "id": "xZeeEFz0EJBB",
        "colab": {
          "base_uri": "https://localhost:8080/"
        },
        "outputId": "18bdbcc2-6e39-4c45-d493-28a4685eb5ef"
      },
      "execution_count": null,
      "outputs": [
        {
          "output_type": "stream",
          "name": "stdout",
          "text": [
            "The five most popular causes of death are \n",
            "causeofdeath     \n",
            "cancer               248\n",
            "heart attack         125\n",
            "traffic collision     56\n",
            "lung cancer           51\n",
            "pneumonia             50\n",
            "Name: count, dtype: int64\n"
          ]
        }
      ]
    },
    {
      "cell_type": "code",
      "source": [
        "import pandas as pd\n",
        "import numpy as np\n",
        "from pandas import DataFrame, Series\n",
        "\n",
        "df=pd.read_csv('/content/drive/MyDrive/Irwin data analysis portfolio/data/data/celebrity_deaths_2016.csv',\n",
        "                usecols=['causeofdeath'])\n",
        "\n",
        "df.fillna('unkown')\n",
        "\n",
        "causes=df.value_counts().head(5)\n",
        "\n",
        "if causes.isin(df.value_counts().head(10)).any():\n",
        "  print ('Cancer is in the top 10 causes of death')"
      ],
      "metadata": {
        "colab": {
          "base_uri": "https://localhost:8080/"
        },
        "id": "4Q-xzl9RIFKK",
        "outputId": "d6ced640-8c94-4bd5-b92b-dd1290869979"
      },
      "execution_count": null,
      "outputs": [
        {
          "output_type": "stream",
          "name": "stdout",
          "text": [
            "Cancer is in the top 10 causes of death\n"
          ]
        }
      ]
    },
    {
      "cell_type": "code",
      "source": [],
      "metadata": {
        "id": "xieSFAS3J4CI"
      },
      "execution_count": null,
      "outputs": []
    }
  ]
}